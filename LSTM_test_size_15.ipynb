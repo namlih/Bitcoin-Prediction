{
  "nbformat": 4,
  "nbformat_minor": 0,
  "metadata": {
    "colab": {
      "name": "LSTM_test_size_15.ipynb",
      "version": "0.3.2",
      "provenance": []
    },
    "kernelspec": {
      "name": "python3",
      "display_name": "Python 3"
    }
  },
  "cells": [
    {
      "cell_type": "markdown",
      "metadata": {
        "id": "view-in-github",
        "colab_type": "text"
      },
      "source": [
        "[View in Colaboratory](https://colab.research.google.com/github/namlih/Bitcoin-Prediction/blob/master/LSTM_test_size_15.ipynb)"
      ]
    },
    {
      "metadata": {
        "id": "RrWOVfwnvv_I",
        "colab_type": "code",
        "colab": {
          "base_uri": "https://localhost:8080/",
          "height": 1969
        },
        "outputId": "6521e17f-2591-42cc-c023-bc1785c2e728"
      },
      "cell_type": "code",
      "source": [
        "import pandas as pd\n",
        "import numpy as np\n",
        "import requests\n",
        "binance  = \"https://www.binance.com/api/v1/klines?symbol=BTCUSDT&interval=1d\"\n",
        "r = requests.get(binance)\n",
        "data = r.json()\n",
        "\n",
        "from math import log10\n",
        "df = pd.DataFrame(columns=[\"price\"])\n",
        "for row in data:\n",
        "    df = df.append(pd.DataFrame([float(row[1])],columns=df.columns))\n",
        "df.index = [i for i in range(df.shape[0])]\n",
        "df"
      ],
      "execution_count": 6,
      "outputs": [
        {
          "output_type": "execute_result",
          "data": {
            "text/html": [
              "<div>\n",
              "<style scoped>\n",
              "    .dataframe tbody tr th:only-of-type {\n",
              "        vertical-align: middle;\n",
              "    }\n",
              "\n",
              "    .dataframe tbody tr th {\n",
              "        vertical-align: top;\n",
              "    }\n",
              "\n",
              "    .dataframe thead th {\n",
              "        text-align: right;\n",
              "    }\n",
              "</style>\n",
              "<table border=\"1\" class=\"dataframe\">\n",
              "  <thead>\n",
              "    <tr style=\"text-align: right;\">\n",
              "      <th></th>\n",
              "      <th>price</th>\n",
              "    </tr>\n",
              "  </thead>\n",
              "  <tbody>\n",
              "    <tr>\n",
              "      <th>0</th>\n",
              "      <td>4261.48</td>\n",
              "    </tr>\n",
              "    <tr>\n",
              "      <th>1</th>\n",
              "      <td>4285.08</td>\n",
              "    </tr>\n",
              "    <tr>\n",
              "      <th>2</th>\n",
              "      <td>4108.37</td>\n",
              "    </tr>\n",
              "    <tr>\n",
              "      <th>3</th>\n",
              "      <td>4120.98</td>\n",
              "    </tr>\n",
              "    <tr>\n",
              "      <th>4</th>\n",
              "      <td>4069.13</td>\n",
              "    </tr>\n",
              "    <tr>\n",
              "      <th>5</th>\n",
              "      <td>4016.00</td>\n",
              "    </tr>\n",
              "    <tr>\n",
              "      <th>6</th>\n",
              "      <td>4040.00</td>\n",
              "    </tr>\n",
              "    <tr>\n",
              "      <th>7</th>\n",
              "      <td>4147.00</td>\n",
              "    </tr>\n",
              "    <tr>\n",
              "      <th>8</th>\n",
              "      <td>4316.01</td>\n",
              "    </tr>\n",
              "    <tr>\n",
              "      <th>9</th>\n",
              "      <td>4280.71</td>\n",
              "    </tr>\n",
              "    <tr>\n",
              "      <th>10</th>\n",
              "      <td>4332.51</td>\n",
              "    </tr>\n",
              "    <tr>\n",
              "      <th>11</th>\n",
              "      <td>4310.01</td>\n",
              "    </tr>\n",
              "    <tr>\n",
              "      <th>12</th>\n",
              "      <td>4353.65</td>\n",
              "    </tr>\n",
              "    <tr>\n",
              "      <th>13</th>\n",
              "      <td>4564.52</td>\n",
              "    </tr>\n",
              "    <tr>\n",
              "      <th>14</th>\n",
              "      <td>4555.14</td>\n",
              "    </tr>\n",
              "    <tr>\n",
              "      <th>15</th>\n",
              "      <td>4689.89</td>\n",
              "    </tr>\n",
              "    <tr>\n",
              "      <th>16</th>\n",
              "      <td>4796.16</td>\n",
              "    </tr>\n",
              "    <tr>\n",
              "      <th>17</th>\n",
              "      <td>4508.50</td>\n",
              "    </tr>\n",
              "    <tr>\n",
              "      <th>18</th>\n",
              "      <td>4505.00</td>\n",
              "    </tr>\n",
              "    <tr>\n",
              "      <th>19</th>\n",
              "      <td>4106.97</td>\n",
              "    </tr>\n",
              "    <tr>\n",
              "      <th>20</th>\n",
              "      <td>4366.49</td>\n",
              "    </tr>\n",
              "    <tr>\n",
              "      <th>21</th>\n",
              "      <td>4619.77</td>\n",
              "    </tr>\n",
              "    <tr>\n",
              "      <th>22</th>\n",
              "      <td>4691.66</td>\n",
              "    </tr>\n",
              "    <tr>\n",
              "      <th>23</th>\n",
              "      <td>4282.80</td>\n",
              "    </tr>\n",
              "    <tr>\n",
              "      <th>24</th>\n",
              "      <td>4258.81</td>\n",
              "    </tr>\n",
              "    <tr>\n",
              "      <th>25</th>\n",
              "      <td>4153.62</td>\n",
              "    </tr>\n",
              "    <tr>\n",
              "      <th>26</th>\n",
              "      <td>4208.60</td>\n",
              "    </tr>\n",
              "    <tr>\n",
              "      <th>27</th>\n",
              "      <td>4159.72</td>\n",
              "    </tr>\n",
              "    <tr>\n",
              "      <th>28</th>\n",
              "      <td>3944.00</td>\n",
              "    </tr>\n",
              "    <tr>\n",
              "      <th>29</th>\n",
              "      <td>3188.01</td>\n",
              "    </tr>\n",
              "    <tr>\n",
              "      <th>...</th>\n",
              "      <td>...</td>\n",
              "    </tr>\n",
              "    <tr>\n",
              "      <th>229</th>\n",
              "      <td>7063.97</td>\n",
              "    </tr>\n",
              "    <tr>\n",
              "      <th>230</th>\n",
              "      <td>7405.21</td>\n",
              "    </tr>\n",
              "    <tr>\n",
              "      <th>231</th>\n",
              "      <td>6796.10</td>\n",
              "    </tr>\n",
              "    <tr>\n",
              "      <th>232</th>\n",
              "      <td>6770.00</td>\n",
              "    </tr>\n",
              "    <tr>\n",
              "      <th>233</th>\n",
              "      <td>6601.39</td>\n",
              "    </tr>\n",
              "    <tr>\n",
              "      <th>234</th>\n",
              "      <td>6895.81</td>\n",
              "    </tr>\n",
              "    <tr>\n",
              "      <th>235</th>\n",
              "      <td>7011.04</td>\n",
              "    </tr>\n",
              "    <tr>\n",
              "      <th>236</th>\n",
              "      <td>6781.55</td>\n",
              "    </tr>\n",
              "    <tr>\n",
              "      <th>237</th>\n",
              "      <td>6839.56</td>\n",
              "    </tr>\n",
              "    <tr>\n",
              "      <th>238</th>\n",
              "      <td>6953.78</td>\n",
              "    </tr>\n",
              "    <tr>\n",
              "      <th>239</th>\n",
              "      <td>7922.99</td>\n",
              "    </tr>\n",
              "    <tr>\n",
              "      <th>240</th>\n",
              "      <td>7877.48</td>\n",
              "    </tr>\n",
              "    <tr>\n",
              "      <th>241</th>\n",
              "      <td>8004.00</td>\n",
              "    </tr>\n",
              "    <tr>\n",
              "      <th>242</th>\n",
              "      <td>8355.07</td>\n",
              "    </tr>\n",
              "    <tr>\n",
              "      <th>243</th>\n",
              "      <td>8064.92</td>\n",
              "    </tr>\n",
              "    <tr>\n",
              "      <th>244</th>\n",
              "      <td>7890.96</td>\n",
              "    </tr>\n",
              "    <tr>\n",
              "      <th>245</th>\n",
              "      <td>8173.99</td>\n",
              "    </tr>\n",
              "    <tr>\n",
              "      <th>246</th>\n",
              "      <td>8273.84</td>\n",
              "    </tr>\n",
              "    <tr>\n",
              "      <th>247</th>\n",
              "      <td>8852.12</td>\n",
              "    </tr>\n",
              "    <tr>\n",
              "      <th>248</th>\n",
              "      <td>8915.31</td>\n",
              "    </tr>\n",
              "    <tr>\n",
              "      <th>249</th>\n",
              "      <td>8785.70</td>\n",
              "    </tr>\n",
              "    <tr>\n",
              "      <th>250</th>\n",
              "      <td>8934.00</td>\n",
              "    </tr>\n",
              "    <tr>\n",
              "      <th>251</th>\n",
              "      <td>9618.96</td>\n",
              "    </tr>\n",
              "    <tr>\n",
              "      <th>252</th>\n",
              "      <td>8869.99</td>\n",
              "    </tr>\n",
              "    <tr>\n",
              "      <th>253</th>\n",
              "      <td>9267.03</td>\n",
              "    </tr>\n",
              "    <tr>\n",
              "      <th>254</th>\n",
              "      <td>8915.35</td>\n",
              "    </tr>\n",
              "    <tr>\n",
              "      <th>255</th>\n",
              "      <td>9348.00</td>\n",
              "    </tr>\n",
              "    <tr>\n",
              "      <th>256</th>\n",
              "      <td>9417.04</td>\n",
              "    </tr>\n",
              "    <tr>\n",
              "      <th>257</th>\n",
              "      <td>9246.01</td>\n",
              "    </tr>\n",
              "    <tr>\n",
              "      <th>258</th>\n",
              "      <td>9071.48</td>\n",
              "    </tr>\n",
              "  </tbody>\n",
              "</table>\n",
              "<p>259 rows × 1 columns</p>\n",
              "</div>"
            ],
            "text/plain": [
              "       price\n",
              "0    4261.48\n",
              "1    4285.08\n",
              "2    4108.37\n",
              "3    4120.98\n",
              "4    4069.13\n",
              "5    4016.00\n",
              "6    4040.00\n",
              "7    4147.00\n",
              "8    4316.01\n",
              "9    4280.71\n",
              "10   4332.51\n",
              "11   4310.01\n",
              "12   4353.65\n",
              "13   4564.52\n",
              "14   4555.14\n",
              "15   4689.89\n",
              "16   4796.16\n",
              "17   4508.50\n",
              "18   4505.00\n",
              "19   4106.97\n",
              "20   4366.49\n",
              "21   4619.77\n",
              "22   4691.66\n",
              "23   4282.80\n",
              "24   4258.81\n",
              "25   4153.62\n",
              "26   4208.60\n",
              "27   4159.72\n",
              "28   3944.00\n",
              "29   3188.01\n",
              "..       ...\n",
              "229  7063.97\n",
              "230  7405.21\n",
              "231  6796.10\n",
              "232  6770.00\n",
              "233  6601.39\n",
              "234  6895.81\n",
              "235  7011.04\n",
              "236  6781.55\n",
              "237  6839.56\n",
              "238  6953.78\n",
              "239  7922.99\n",
              "240  7877.48\n",
              "241  8004.00\n",
              "242  8355.07\n",
              "243  8064.92\n",
              "244  7890.96\n",
              "245  8173.99\n",
              "246  8273.84\n",
              "247  8852.12\n",
              "248  8915.31\n",
              "249  8785.70\n",
              "250  8934.00\n",
              "251  9618.96\n",
              "252  8869.99\n",
              "253  9267.03\n",
              "254  8915.35\n",
              "255  9348.00\n",
              "256  9417.04\n",
              "257  9246.01\n",
              "258  9071.48\n",
              "\n",
              "[259 rows x 1 columns]"
            ]
          },
          "metadata": {
            "tags": []
          },
          "execution_count": 6
        }
      ]
    },
    {
      "metadata": {
        "id": "AE5iA7iRvyia",
        "colab_type": "code",
        "colab": {
          "base_uri": "https://localhost:8080/",
          "height": 34
        },
        "outputId": "8770d1d3-9e9f-4db1-ecfd-fa6b652aa0a2"
      },
      "cell_type": "code",
      "source": [
        "df.shape"
      ],
      "execution_count": 7,
      "outputs": [
        {
          "output_type": "execute_result",
          "data": {
            "text/plain": [
              "(259, 1)"
            ]
          },
          "metadata": {
            "tags": []
          },
          "execution_count": 7
        }
      ]
    },
    {
      "metadata": {
        "id": "Kg06E46nv86z",
        "colab_type": "code",
        "colab": {}
      },
      "cell_type": "code",
      "source": [
        "data_size = df.shape[0]\n",
        "x_size = 7\n",
        "y_size = 1"
      ],
      "execution_count": 0,
      "outputs": []
    },
    {
      "metadata": {
        "id": "g3G1JAiav-e7",
        "colab_type": "code",
        "colab": {}
      },
      "cell_type": "code",
      "source": [
        "column_names_x = list()\n",
        "for i in range(x_size):\n",
        "    column_names_x.append(\"x\"+str(i+1))\n",
        "    \n",
        "column_names_y = list()\n",
        "for i in range(y_size):\n",
        "    column_names_y.append(\"y\"+str(i+1))\n",
        "cols = [\"index\"]\n",
        "cols += column_names_x\n",
        "cols += column_names_y"
      ],
      "execution_count": 0,
      "outputs": []
    },
    {
      "metadata": {
        "id": "4MxJvpmAwCUj",
        "colab_type": "code",
        "colab": {}
      },
      "cell_type": "code",
      "source": [
        "\"\"\"Moving Window Transformation of Logged Data with window sizes: x->30 y->1\"\"\"\n",
        "moving_window = pd.DataFrame(columns=cols)\n",
        "for i in range(data_size-(x_size+y_size)+1):\n",
        "        row = np.array([i])\n",
        "        window = np.log10(df['price'].values[i:i+(x_size+y_size)])\n",
        "        \"\"\"Local Normalization Step\"\"\"\n",
        "        window = [w-window[0] for w in window ]\n",
        "        row = np.append(row,window)\n",
        "        moving_window = moving_window.append(pd.DataFrame([row],columns=cols))"
      ],
      "execution_count": 0,
      "outputs": []
    },
    {
      "metadata": {
        "id": "c89IjvyWwED_",
        "colab_type": "code",
        "colab": {}
      },
      "cell_type": "code",
      "source": [
        "from sklearn.metrics import mean_squared_error, accuracy_score\n",
        "from keras.models import Sequential\n",
        "from keras.layers import Dense, Activation\n",
        "from keras.layers import LSTM\n",
        "from keras.layers import TimeDistributed\n",
        "from keras.layers import Lambda\n",
        "from math import sqrt\n",
        "from math import log10\n",
        "import pandas as pd\n",
        "import numpy as np\n",
        "from matplotlib import pyplot as plt\n",
        "import time\n",
        "from keras.callbacks import History\n",
        "def build_model(x,y,input_size,output_size,epochs=1000):\n",
        "    batch_size = 1\n",
        "    model = Sequential()\n",
        "    model.add(LSTM(128,return_sequences=True,batch_input_shape=(batch_size,input_size,1),stateful=True))\n",
        "    model.add(LSTM(32,stateful=True))\n",
        "    model.add(Dense(128))\n",
        "    model.add(Activation('tanh'))\n",
        "    model.add(Dense(64))\n",
        "    model.add(Activation('tanh'))\n",
        "    model.add(Dense(16))\n",
        "    model.add(Activation('tanh'))\n",
        "    model.add(Dense(1))\n",
        "    model.compile(loss='mean_squared_error',optimizer='adam')\n",
        "    history = History()\n",
        "    #for i in range(1000):\n",
        "        #if i % 200 == 0: print(i)\n",
        "    model.fit(x,y,batch_size=batch_size,epochs=epochs,shuffle=False,verbose=1,callbacks=[history])\n",
        "    #model.reset_states()\n",
        "    return model,history\n",
        "\n",
        "def sMAPE(y_true, y_pred):\n",
        "    y_true = np.array(y_true)\n",
        "    y_pred = np.array(y_pred)\n",
        "    return np.mean(np.abs((y_true - y_pred) / ((y_true + y_pred)/2) )) * 100\n",
        "\n",
        "def prepare_xy(train,y_size):\n",
        "\n",
        "    x,y = train.iloc[:,:-y_size],train.iloc[:,-y_size:]\n",
        "    x = np.array(x)\n",
        "    y = np.array(y)\n",
        "    x = x.reshape(x.shape[0],x.shape[1],1)\n",
        "    y = y.reshape(y.shape[0],y.shape[1])\n",
        "    return x,y\n",
        "\n",
        "def pred(data,model,y_size):\n",
        "    \n",
        "    preds = np.array([])\n",
        "    for i in range(data.shape[0]):\n",
        "        pred = np.array([])\n",
        "        #pred = np.append(pred,data.iloc[i,0])\n",
        "        #pred = np.append(pred,data.iloc[i,1])\n",
        "        \n",
        "        x_t = data.iloc[i,:-y_size]\n",
        "        y_t = data.iloc[i,-y_size:]\n",
        "        \n",
        "        x_t,y_t = np.array(x_t),np.array(y_t)\n",
        "        x_t = x_t.reshape(1,x_t.shape[0],1)\n",
        "        \n",
        "        yhat = model.predict(x_t,batch_size=1)\n",
        "        yhat = yhat.reshape(yhat.shape[1],)\n",
        "        for y in yhat:\n",
        "            pred = np.append(pred,y)\n",
        "        preds = np.append(preds,pred,axis=0)\n",
        "    return preds"
      ],
      "execution_count": 0,
      "outputs": []
    },
    {
      "metadata": {
        "id": "p2aTo2CGwVuN",
        "colab_type": "code",
        "colab": {
          "base_uri": "https://localhost:8080/",
          "height": 34
        },
        "outputId": "f8914280-63c2-4aad-fbbc-fb996be7da36"
      },
      "cell_type": "code",
      "source": [
        "moving_window.shape"
      ],
      "execution_count": 13,
      "outputs": [
        {
          "output_type": "execute_result",
          "data": {
            "text/plain": [
              "(252, 9)"
            ]
          },
          "metadata": {
            "tags": []
          },
          "execution_count": 13
        }
      ]
    },
    {
      "metadata": {
        "id": "DBscdqazwZ5M",
        "colab_type": "code",
        "colab": {
          "base_uri": "https://localhost:8080/",
          "height": 204
        },
        "outputId": "6038641c-3c74-4fdd-b11d-a7fc54e06e16"
      },
      "cell_type": "code",
      "source": [
        "data = moving_window.drop(['index'],axis=1)\n",
        "data.head()"
      ],
      "execution_count": 14,
      "outputs": [
        {
          "output_type": "execute_result",
          "data": {
            "text/html": [
              "<div>\n",
              "<style scoped>\n",
              "    .dataframe tbody tr th:only-of-type {\n",
              "        vertical-align: middle;\n",
              "    }\n",
              "\n",
              "    .dataframe tbody tr th {\n",
              "        vertical-align: top;\n",
              "    }\n",
              "\n",
              "    .dataframe thead th {\n",
              "        text-align: right;\n",
              "    }\n",
              "</style>\n",
              "<table border=\"1\" class=\"dataframe\">\n",
              "  <thead>\n",
              "    <tr style=\"text-align: right;\">\n",
              "      <th></th>\n",
              "      <th>x1</th>\n",
              "      <th>x2</th>\n",
              "      <th>x3</th>\n",
              "      <th>x4</th>\n",
              "      <th>x5</th>\n",
              "      <th>x6</th>\n",
              "      <th>x7</th>\n",
              "      <th>y1</th>\n",
              "    </tr>\n",
              "  </thead>\n",
              "  <tbody>\n",
              "    <tr>\n",
              "      <th>0</th>\n",
              "      <td>0.0</td>\n",
              "      <td>0.002398</td>\n",
              "      <td>-0.015891</td>\n",
              "      <td>-0.014560</td>\n",
              "      <td>-0.020059</td>\n",
              "      <td>-0.025767</td>\n",
              "      <td>-0.023179</td>\n",
              "      <td>-0.011826</td>\n",
              "    </tr>\n",
              "    <tr>\n",
              "      <th>0</th>\n",
              "      <td>0.0</td>\n",
              "      <td>-0.018289</td>\n",
              "      <td>-0.016958</td>\n",
              "      <td>-0.022457</td>\n",
              "      <td>-0.028165</td>\n",
              "      <td>-0.025578</td>\n",
              "      <td>-0.014225</td>\n",
              "      <td>0.003124</td>\n",
              "    </tr>\n",
              "    <tr>\n",
              "      <th>0</th>\n",
              "      <td>0.0</td>\n",
              "      <td>0.001331</td>\n",
              "      <td>-0.004168</td>\n",
              "      <td>-0.009876</td>\n",
              "      <td>-0.007288</td>\n",
              "      <td>0.004064</td>\n",
              "      <td>0.021413</td>\n",
              "      <td>0.017846</td>\n",
              "    </tr>\n",
              "    <tr>\n",
              "      <th>0</th>\n",
              "      <td>0.0</td>\n",
              "      <td>-0.005499</td>\n",
              "      <td>-0.011207</td>\n",
              "      <td>-0.008619</td>\n",
              "      <td>0.002734</td>\n",
              "      <td>0.020082</td>\n",
              "      <td>0.016515</td>\n",
              "      <td>0.021739</td>\n",
              "    </tr>\n",
              "    <tr>\n",
              "      <th>0</th>\n",
              "      <td>0.0</td>\n",
              "      <td>-0.005708</td>\n",
              "      <td>-0.003120</td>\n",
              "      <td>0.008232</td>\n",
              "      <td>0.025581</td>\n",
              "      <td>0.022014</td>\n",
              "      <td>0.027238</td>\n",
              "      <td>0.024977</td>\n",
              "    </tr>\n",
              "  </tbody>\n",
              "</table>\n",
              "</div>"
            ],
            "text/plain": [
              "    x1        x2        x3        x4        x5        x6        x7        y1\n",
              "0  0.0  0.002398 -0.015891 -0.014560 -0.020059 -0.025767 -0.023179 -0.011826\n",
              "0  0.0 -0.018289 -0.016958 -0.022457 -0.028165 -0.025578 -0.014225  0.003124\n",
              "0  0.0  0.001331 -0.004168 -0.009876 -0.007288  0.004064  0.021413  0.017846\n",
              "0  0.0 -0.005499 -0.011207 -0.008619  0.002734  0.020082  0.016515  0.021739\n",
              "0  0.0 -0.005708 -0.003120  0.008232  0.025581  0.022014  0.027238  0.024977"
            ]
          },
          "metadata": {
            "tags": []
          },
          "execution_count": 14
        }
      ]
    },
    {
      "metadata": {
        "id": "WJJ67iaVwbXk",
        "colab_type": "code",
        "colab": {}
      },
      "cell_type": "code",
      "source": [
        "test_size = 15\n",
        "train_size = moving_window.shape[0]-test_size\n",
        "train = data[:train_size]\n",
        "test = data[-test_size:]\n",
        "x,y = prepare_xy(train,y_size=y_size)"
      ],
      "execution_count": 0,
      "outputs": []
    },
    {
      "metadata": {
        "id": "6gqD3M3dwdMk",
        "colab_type": "code",
        "colab": {
          "base_uri": "https://localhost:8080/",
          "height": 13617
        },
        "outputId": "7a1ffb97-a6d9-4c0e-bffd-71e17f3e00ba"
      },
      "cell_type": "code",
      "source": [
        "st = time.time()\n",
        "model,history = build_model(x,y,input_size=x_size,output_size=y_size,epochs=400)\n",
        "ft = time.time()"
      ],
      "execution_count": 16,
      "outputs": [
        {
          "output_type": "stream",
          "text": [
            "Epoch 1/400\n",
            "237/237 [==============================] - 3s 14ms/step - loss: 0.0056\n",
            "Epoch 2/400\n",
            "237/237 [==============================] - 2s 10ms/step - loss: 0.0052\n",
            "Epoch 3/400\n",
            "237/237 [==============================] - 2s 10ms/step - loss: 0.0047\n",
            "Epoch 4/400\n",
            "237/237 [==============================] - 2s 10ms/step - loss: 0.0036\n",
            "Epoch 5/400\n",
            "237/237 [==============================] - 2s 10ms/step - loss: 0.0019\n",
            "Epoch 6/400\n",
            "237/237 [==============================] - 2s 10ms/step - loss: 0.0012\n",
            "Epoch 7/400\n",
            "199/237 [========================>.....] - ETA: 0s - loss: 0.0011"
          ],
          "name": "stdout"
        },
        {
          "output_type": "stream",
          "text": [
            "237/237 [==============================] - 2s 10ms/step - loss: 0.0010\n",
            "Epoch 8/400\n",
            "237/237 [==============================] - 2s 10ms/step - loss: 9.5280e-04\n",
            "Epoch 9/400\n",
            "237/237 [==============================] - 2s 10ms/step - loss: 9.2120e-04\n",
            "Epoch 10/400\n",
            "237/237 [==============================] - 2s 10ms/step - loss: 9.0768e-04\n",
            "Epoch 11/400\n",
            "237/237 [==============================] - 2s 10ms/step - loss: 8.9745e-04\n",
            "Epoch 12/400\n",
            "237/237 [==============================] - 2s 10ms/step - loss: 8.8727e-04\n",
            "Epoch 13/400\n",
            "237/237 [==============================] - 2s 10ms/step - loss: 8.8045e-04\n",
            "Epoch 14/400\n",
            " 13/237 [>.............................] - ETA: 2s - loss: 4.1924e-04"
          ],
          "name": "stdout"
        },
        {
          "output_type": "stream",
          "text": [
            "237/237 [==============================] - 2s 9ms/step - loss: 8.9037e-04\n",
            "Epoch 15/400\n",
            "237/237 [==============================] - 2s 10ms/step - loss: 0.0010\n",
            "Epoch 16/400\n",
            "237/237 [==============================] - 2s 9ms/step - loss: 8.6628e-04\n",
            "Epoch 17/400\n",
            "237/237 [==============================] - 2s 10ms/step - loss: 8.5553e-04\n",
            "Epoch 18/400\n",
            "237/237 [==============================] - 2s 10ms/step - loss: 8.5780e-04\n",
            "Epoch 19/400\n",
            "237/237 [==============================] - 2s 9ms/step - loss: 8.6593e-04\n",
            "Epoch 20/400\n",
            "237/237 [==============================] - 2s 9ms/step - loss: 8.6427e-04\n",
            "Epoch 21/400\n",
            " 24/237 [==>...........................] - ETA: 2s - loss: 9.1882e-04"
          ],
          "name": "stdout"
        },
        {
          "output_type": "stream",
          "text": [
            "237/237 [==============================] - 2s 9ms/step - loss: 8.5827e-04\n",
            "Epoch 22/400\n",
            "237/237 [==============================] - 2s 9ms/step - loss: 9.1072e-04\n",
            "Epoch 23/400\n",
            "237/237 [==============================] - 2s 9ms/step - loss: 8.7414e-04\n",
            "Epoch 24/400\n",
            "237/237 [==============================] - 2s 9ms/step - loss: 8.4817e-04\n",
            "Epoch 25/400\n",
            "237/237 [==============================] - 2s 9ms/step - loss: 8.4532e-04\n",
            "Epoch 26/400\n",
            "237/237 [==============================] - 2s 9ms/step - loss: 8.5316e-04\n",
            "Epoch 27/400\n",
            "237/237 [==============================] - 2s 9ms/step - loss: 8.5328e-04\n",
            "Epoch 28/400\n",
            " 32/237 [===>..........................] - ETA: 1s - loss: 8.4238e-04"
          ],
          "name": "stdout"
        },
        {
          "output_type": "stream",
          "text": [
            "237/237 [==============================] - 2s 9ms/step - loss: 8.5789e-04\n",
            "Epoch 29/400\n",
            "237/237 [==============================] - 2s 8ms/step - loss: 8.5181e-04\n",
            "Epoch 30/400\n",
            "237/237 [==============================] - 2s 8ms/step - loss: 8.5849e-04\n",
            "Epoch 31/400\n",
            "237/237 [==============================] - 2s 9ms/step - loss: 8.5440e-04\n",
            "Epoch 32/400\n",
            "237/237 [==============================] - 2s 9ms/step - loss: 8.4994e-04\n",
            "Epoch 33/400\n",
            "237/237 [==============================] - 2s 9ms/step - loss: 8.6031e-04\n",
            "Epoch 34/400\n",
            "237/237 [==============================] - 2s 9ms/step - loss: 8.5907e-04\n",
            "Epoch 35/400\n",
            " 30/237 [==>...........................] - ETA: 1s - loss: 8.2143e-04"
          ],
          "name": "stdout"
        },
        {
          "output_type": "stream",
          "text": [
            "237/237 [==============================] - 2s 9ms/step - loss: 8.3183e-04\n",
            "Epoch 36/400\n",
            "237/237 [==============================] - 2s 9ms/step - loss: 8.4073e-04\n",
            "Epoch 37/400\n",
            "237/237 [==============================] - 2s 9ms/step - loss: 8.3653e-04\n",
            "Epoch 38/400\n",
            "237/237 [==============================] - 2s 9ms/step - loss: 0.0016\n",
            "Epoch 39/400\n",
            "237/237 [==============================] - 2s 9ms/step - loss: 0.0010\n",
            "Epoch 40/400\n",
            "237/237 [==============================] - 2s 9ms/step - loss: 8.4866e-04\n",
            "Epoch 41/400\n",
            "237/237 [==============================] - 2s 9ms/step - loss: 8.3055e-04\n",
            "Epoch 42/400\n",
            " 45/237 [====>.........................] - ETA: 1s - loss: 7.5009e-04"
          ],
          "name": "stdout"
        },
        {
          "output_type": "stream",
          "text": [
            "237/237 [==============================] - 2s 9ms/step - loss: 8.1691e-04\n",
            "Epoch 43/400\n",
            "237/237 [==============================] - 2s 9ms/step - loss: 8.0967e-04\n",
            "Epoch 44/400\n",
            "237/237 [==============================] - 2s 9ms/step - loss: 8.0574e-04\n",
            "Epoch 45/400\n",
            "237/237 [==============================] - 2s 9ms/step - loss: 8.0374e-04\n",
            "Epoch 46/400\n",
            "237/237 [==============================] - 2s 9ms/step - loss: 8.0346e-04\n",
            "Epoch 47/400\n",
            "237/237 [==============================] - 2s 9ms/step - loss: 8.0834e-04\n",
            "Epoch 48/400\n",
            "237/237 [==============================] - 2s 9ms/step - loss: 8.1674e-04\n",
            "Epoch 49/400\n",
            " 55/237 [=====>........................] - ETA: 1s - loss: 6.6957e-04"
          ],
          "name": "stdout"
        },
        {
          "output_type": "stream",
          "text": [
            "237/237 [==============================] - 2s 9ms/step - loss: 8.0666e-04\n",
            "Epoch 50/400\n",
            "237/237 [==============================] - 2s 9ms/step - loss: 8.0738e-04\n",
            "Epoch 51/400\n",
            "237/237 [==============================] - 2s 9ms/step - loss: 8.4455e-04\n",
            "Epoch 52/400\n",
            "237/237 [==============================] - 2s 9ms/step - loss: 7.9752e-04\n",
            "Epoch 53/400\n",
            "237/237 [==============================] - 2s 9ms/step - loss: 7.9099e-04\n",
            "Epoch 54/400\n",
            "237/237 [==============================] - 2s 9ms/step - loss: 8.0253e-04\n",
            "Epoch 55/400\n",
            "237/237 [==============================] - 2s 9ms/step - loss: 8.3550e-04\n",
            "Epoch 56/400\n",
            " 54/237 [=====>........................] - ETA: 1s - loss: 6.6292e-04"
          ],
          "name": "stdout"
        },
        {
          "output_type": "stream",
          "text": [
            "237/237 [==============================] - 2s 9ms/step - loss: 7.7387e-04\n",
            "Epoch 57/400\n",
            "237/237 [==============================] - 2s 8ms/step - loss: 7.7793e-04\n",
            "Epoch 58/400\n",
            "237/237 [==============================] - 2s 9ms/step - loss: 7.9370e-04\n",
            "Epoch 59/400\n",
            "237/237 [==============================] - 2s 8ms/step - loss: 8.0779e-04\n",
            "Epoch 60/400\n",
            "237/237 [==============================] - 2s 9ms/step - loss: 7.9169e-04\n",
            "Epoch 61/400\n",
            "237/237 [==============================] - 2s 9ms/step - loss: 7.8402e-04\n",
            "Epoch 62/400\n",
            "237/237 [==============================] - 2s 9ms/step - loss: 7.7731e-04\n",
            "Epoch 63/400\n",
            " 53/237 [=====>........................] - ETA: 1s - loss: 6.5467e-04"
          ],
          "name": "stdout"
        },
        {
          "output_type": "stream",
          "text": [
            "237/237 [==============================] - 2s 10ms/step - loss: 0.0014\n",
            "Epoch 64/400\n",
            "237/237 [==============================] - 2s 10ms/step - loss: 7.9734e-04\n",
            "Epoch 65/400\n",
            "237/237 [==============================] - 2s 10ms/step - loss: 7.5410e-04\n",
            "Epoch 66/400\n",
            "237/237 [==============================] - 2s 10ms/step - loss: 7.6570e-04\n",
            "Epoch 67/400\n",
            "237/237 [==============================] - 2s 10ms/step - loss: 7.7498e-04\n",
            "Epoch 68/400\n",
            "237/237 [==============================] - 2s 10ms/step - loss: 7.6115e-04\n",
            "Epoch 69/400\n",
            "237/237 [==============================] - 2s 10ms/step - loss: 8.1039e-04\n",
            "Epoch 70/400\n",
            "  1/237 [..............................] - ETA: 2s - loss: 3.3893e-05"
          ],
          "name": "stdout"
        },
        {
          "output_type": "stream",
          "text": [
            "237/237 [==============================] - 2s 10ms/step - loss: 7.6161e-04\n",
            "Epoch 71/400\n",
            "237/237 [==============================] - 2s 9ms/step - loss: 7.5791e-04\n",
            "Epoch 72/400\n",
            "237/237 [==============================] - 2s 9ms/step - loss: 7.5274e-04\n",
            "Epoch 73/400\n",
            "237/237 [==============================] - 2s 9ms/step - loss: 7.2665e-04\n",
            "Epoch 74/400\n",
            "237/237 [==============================] - 2s 9ms/step - loss: 7.2822e-04\n",
            "Epoch 75/400\n",
            "237/237 [==============================] - 2s 9ms/step - loss: 7.7627e-04\n",
            "Epoch 76/400\n",
            "237/237 [==============================] - 2s 9ms/step - loss: 7.2498e-04\n",
            "Epoch 77/400\n",
            " 25/237 [==>...........................] - ETA: 1s - loss: 8.1743e-04"
          ],
          "name": "stdout"
        },
        {
          "output_type": "stream",
          "text": [
            "237/237 [==============================] - 2s 9ms/step - loss: 7.3750e-04\n",
            "Epoch 78/400\n",
            "237/237 [==============================] - 2s 9ms/step - loss: 7.6422e-04\n",
            "Epoch 79/400\n",
            "237/237 [==============================] - 2s 9ms/step - loss: 7.2787e-04\n",
            "Epoch 80/400\n",
            "237/237 [==============================] - 2s 9ms/step - loss: 7.6668e-04\n",
            "Epoch 81/400\n",
            "237/237 [==============================] - 2s 9ms/step - loss: 7.7458e-04\n",
            "Epoch 82/400\n",
            "237/237 [==============================] - 2s 8ms/step - loss: 7.4828e-04\n",
            "Epoch 83/400\n",
            "237/237 [==============================] - 2s 9ms/step - loss: 7.4535e-04\n",
            "Epoch 84/400\n",
            " 77/237 [========>.....................] - ETA: 1s - loss: 5.6757e-04"
          ],
          "name": "stdout"
        },
        {
          "output_type": "stream",
          "text": [
            "237/237 [==============================] - 2s 9ms/step - loss: 7.4111e-04\n",
            "Epoch 85/400\n",
            "237/237 [==============================] - 2s 9ms/step - loss: 7.3163e-04\n",
            "Epoch 86/400\n",
            "237/237 [==============================] - 2s 8ms/step - loss: 7.2379e-04\n",
            "Epoch 87/400\n",
            "237/237 [==============================] - 2s 9ms/step - loss: 8.6138e-04\n",
            "Epoch 88/400\n",
            "237/237 [==============================] - 2s 9ms/step - loss: 7.1023e-04\n",
            "Epoch 89/400\n",
            "237/237 [==============================] - 2s 9ms/step - loss: 6.9945e-04\n",
            "Epoch 90/400\n",
            "237/237 [==============================] - 2s 9ms/step - loss: 6.8312e-04\n",
            "Epoch 91/400\n",
            " 79/237 [=========>....................] - ETA: 1s - loss: 5.1999e-04"
          ],
          "name": "stdout"
        },
        {
          "output_type": "stream",
          "text": [
            "237/237 [==============================] - 2s 9ms/step - loss: 7.0946e-04\n",
            "Epoch 92/400\n",
            "237/237 [==============================] - 2s 9ms/step - loss: 8.3113e-04\n",
            "Epoch 93/400\n",
            "237/237 [==============================] - 2s 9ms/step - loss: 7.1996e-04\n",
            "Epoch 94/400\n",
            "237/237 [==============================] - 2s 9ms/step - loss: 6.8776e-04\n",
            "Epoch 95/400\n",
            "237/237 [==============================] - 2s 9ms/step - loss: 8.9501e-04\n",
            "Epoch 96/400\n",
            "237/237 [==============================] - 2s 8ms/step - loss: 7.6131e-04\n",
            "Epoch 97/400\n",
            "237/237 [==============================] - 2s 8ms/step - loss: 7.3691e-04\n",
            "Epoch 98/400\n",
            " 92/237 [==========>...................] - ETA: 1s - loss: 5.2791e-04"
          ],
          "name": "stdout"
        },
        {
          "output_type": "stream",
          "text": [
            "237/237 [==============================] - 2s 9ms/step - loss: 7.2689e-04\n",
            "Epoch 99/400\n",
            "237/237 [==============================] - 2s 9ms/step - loss: 7.2064e-04\n",
            "Epoch 100/400\n",
            "237/237 [==============================] - 2s 9ms/step - loss: 7.1037e-04\n",
            "Epoch 101/400\n",
            "237/237 [==============================] - 2s 9ms/step - loss: 7.0181e-04\n",
            "Epoch 102/400\n",
            "237/237 [==============================] - 2s 9ms/step - loss: 6.8856e-04\n",
            "Epoch 103/400\n",
            "237/237 [==============================] - 2s 9ms/step - loss: 6.7397e-04\n",
            "Epoch 104/400\n",
            "237/237 [==============================] - 2s 9ms/step - loss: 6.6532e-04\n",
            "Epoch 105/400\n",
            " 62/237 [======>.......................] - ETA: 1s - loss: 5.5271e-04"
          ],
          "name": "stdout"
        },
        {
          "output_type": "stream",
          "text": [
            "237/237 [==============================] - 2s 8ms/step - loss: 6.5856e-04\n",
            "Epoch 106/400\n",
            "237/237 [==============================] - 2s 8ms/step - loss: 7.4330e-04\n",
            "Epoch 107/400\n",
            "237/237 [==============================] - 2s 8ms/step - loss: 7.0866e-04\n",
            "Epoch 108/400\n",
            "237/237 [==============================] - 2s 8ms/step - loss: 7.0925e-04\n",
            "Epoch 109/400\n",
            "237/237 [==============================] - 2s 8ms/step - loss: 6.7311e-04\n",
            "Epoch 110/400\n",
            "237/237 [==============================] - 2s 8ms/step - loss: 6.6280e-04\n",
            "Epoch 111/400\n",
            "237/237 [==============================] - 2s 8ms/step - loss: 6.5158e-04\n",
            "Epoch 112/400\n",
            "131/237 [===============>..............] - ETA: 0s - loss: 6.1313e-04"
          ],
          "name": "stdout"
        },
        {
          "output_type": "stream",
          "text": [
            "237/237 [==============================] - 2s 8ms/step - loss: 6.5040e-04\n",
            "Epoch 113/400\n",
            "237/237 [==============================] - 2s 8ms/step - loss: 6.4412e-04\n",
            "Epoch 114/400\n",
            "237/237 [==============================] - 2s 8ms/step - loss: 6.4575e-04\n",
            "Epoch 115/400\n",
            "237/237 [==============================] - 2s 8ms/step - loss: 6.5206e-04\n",
            "Epoch 116/400\n",
            "237/237 [==============================] - 2s 8ms/step - loss: 6.2773e-04\n",
            "Epoch 117/400\n",
            "237/237 [==============================] - 2s 8ms/step - loss: 0.0013\n",
            "Epoch 118/400\n",
            "237/237 [==============================] - 2s 9ms/step - loss: 8.3693e-04\n",
            "Epoch 119/400\n",
            "114/237 [=============>................] - ETA: 1s - loss: 5.8095e-04"
          ],
          "name": "stdout"
        },
        {
          "output_type": "stream",
          "text": [
            "237/237 [==============================] - 2s 8ms/step - loss: 7.5624e-04\n",
            "Epoch 120/400\n",
            "237/237 [==============================] - 2s 9ms/step - loss: 7.2873e-04\n",
            "Epoch 121/400\n",
            "237/237 [==============================] - 2s 9ms/step - loss: 7.1489e-04\n",
            "Epoch 122/400\n",
            "237/237 [==============================] - 2s 8ms/step - loss: 7.0738e-04\n",
            "Epoch 123/400\n",
            "237/237 [==============================] - 2s 9ms/step - loss: 7.0384e-04\n",
            "Epoch 124/400\n",
            "237/237 [==============================] - 2s 8ms/step - loss: 6.9738e-04\n",
            "Epoch 125/400\n",
            "237/237 [==============================] - 2s 8ms/step - loss: 6.9622e-04\n",
            "Epoch 126/400\n",
            " 95/237 [===========>..................] - ETA: 1s - loss: 4.9814e-04"
          ],
          "name": "stdout"
        },
        {
          "output_type": "stream",
          "text": [
            "237/237 [==============================] - 2s 8ms/step - loss: 6.9593e-04\n",
            "Epoch 127/400\n",
            "237/237 [==============================] - 2s 8ms/step - loss: 6.9338e-04\n",
            "Epoch 128/400\n",
            "237/237 [==============================] - 2s 8ms/step - loss: 6.8349e-04\n",
            "Epoch 129/400\n",
            "237/237 [==============================] - 2s 8ms/step - loss: 6.7802e-04\n",
            "Epoch 130/400\n",
            "237/237 [==============================] - 2s 8ms/step - loss: 6.6745e-04\n",
            "Epoch 131/400\n",
            "237/237 [==============================] - 2s 8ms/step - loss: 6.6043e-04\n",
            "Epoch 132/400\n",
            "237/237 [==============================] - 2s 8ms/step - loss: 6.6154e-04\n",
            "Epoch 133/400\n",
            "125/237 [==============>...............] - ETA: 0s - loss: 5.9350e-04"
          ],
          "name": "stdout"
        },
        {
          "output_type": "stream",
          "text": [
            "237/237 [==============================] - 2s 8ms/step - loss: 6.5897e-04\n",
            "Epoch 134/400\n",
            "237/237 [==============================] - 2s 8ms/step - loss: 6.4412e-04\n",
            "Epoch 135/400\n",
            "237/237 [==============================] - 2s 8ms/step - loss: 6.5296e-04\n",
            "Epoch 136/400\n",
            "237/237 [==============================] - 2s 8ms/step - loss: 6.4657e-04\n",
            "Epoch 137/400\n",
            "237/237 [==============================] - 2s 9ms/step - loss: 6.5452e-04\n",
            "Epoch 138/400\n",
            "237/237 [==============================] - 2s 8ms/step - loss: 6.4590e-04\n",
            "Epoch 139/400\n",
            "237/237 [==============================] - 2s 8ms/step - loss: 6.2235e-04\n",
            "Epoch 140/400\n",
            "117/237 [=============>................] - ETA: 0s - loss: 5.6720e-04"
          ],
          "name": "stdout"
        },
        {
          "output_type": "stream",
          "text": [
            "237/237 [==============================] - 2s 8ms/step - loss: 7.7800e-04\n",
            "Epoch 141/400\n",
            "237/237 [==============================] - 2s 8ms/step - loss: 6.6938e-04\n",
            "Epoch 142/400\n",
            "237/237 [==============================] - 2s 8ms/step - loss: 6.2344e-04\n",
            "Epoch 143/400\n",
            "237/237 [==============================] - 2s 8ms/step - loss: 5.9223e-04\n",
            "Epoch 144/400\n",
            "237/237 [==============================] - 2s 8ms/step - loss: 5.9352e-04\n",
            "Epoch 145/400\n",
            "237/237 [==============================] - 2s 8ms/step - loss: 6.3880e-04\n",
            "Epoch 146/400\n",
            "237/237 [==============================] - 2s 8ms/step - loss: 6.3051e-04\n",
            "Epoch 147/400\n",
            "116/237 [=============>................] - ETA: 1s - loss: 4.7822e-04"
          ],
          "name": "stdout"
        },
        {
          "output_type": "stream",
          "text": [
            "237/237 [==============================] - 2s 9ms/step - loss: 5.9894e-04\n",
            "Epoch 148/400\n",
            "237/237 [==============================] - 2s 8ms/step - loss: 6.0452e-04\n",
            "Epoch 149/400\n",
            "237/237 [==============================] - 2s 8ms/step - loss: 6.0523e-04\n",
            "Epoch 150/400\n",
            "237/237 [==============================] - 2s 9ms/step - loss: 6.0801e-04\n",
            "Epoch 151/400\n",
            "237/237 [==============================] - 2s 8ms/step - loss: 6.1007e-04\n",
            "Epoch 152/400\n",
            "237/237 [==============================] - 2s 8ms/step - loss: 5.8454e-04\n",
            "Epoch 153/400\n",
            "237/237 [==============================] - 2s 9ms/step - loss: 6.5339e-04\n",
            "Epoch 154/400\n",
            "102/237 [===========>..................] - ETA: 1s - loss: 4.5562e-04"
          ],
          "name": "stdout"
        },
        {
          "output_type": "stream",
          "text": [
            "237/237 [==============================] - 2s 9ms/step - loss: 5.8312e-04\n",
            "Epoch 155/400\n",
            "237/237 [==============================] - 2s 8ms/step - loss: 6.5642e-04\n",
            "Epoch 156/400\n",
            "237/237 [==============================] - 2s 8ms/step - loss: 7.3576e-04\n",
            "Epoch 157/400\n",
            "237/237 [==============================] - 2s 8ms/step - loss: 6.7537e-04\n",
            "Epoch 158/400\n",
            "237/237 [==============================] - 2s 8ms/step - loss: 5.6782e-04\n",
            "Epoch 159/400\n",
            "237/237 [==============================] - 2s 9ms/step - loss: 5.9482e-04\n",
            "Epoch 160/400\n",
            "237/237 [==============================] - 2s 9ms/step - loss: 5.5848e-04\n",
            "Epoch 161/400\n",
            " 89/237 [==========>...................] - ETA: 1s - loss: 5.1904e-04"
          ],
          "name": "stdout"
        },
        {
          "output_type": "stream",
          "text": [
            "237/237 [==============================] - 2s 9ms/step - loss: 5.5905e-04\n",
            "Epoch 162/400\n",
            "237/237 [==============================] - 2s 8ms/step - loss: 6.1061e-04\n",
            "Epoch 163/400\n",
            "237/237 [==============================] - 2s 9ms/step - loss: 5.8488e-04\n",
            "Epoch 164/400\n",
            "237/237 [==============================] - 2s 8ms/step - loss: 6.6100e-04\n",
            "Epoch 165/400\n",
            "237/237 [==============================] - 2s 8ms/step - loss: 5.3543e-04\n",
            "Epoch 166/400\n",
            "237/237 [==============================] - 2s 8ms/step - loss: 5.3016e-04\n",
            "Epoch 167/400\n",
            "237/237 [==============================] - 2s 8ms/step - loss: 5.2247e-04\n",
            "Epoch 168/400\n",
            "118/237 [=============>................] - ETA: 1s - loss: 4.8123e-04"
          ],
          "name": "stdout"
        },
        {
          "output_type": "stream",
          "text": [
            "237/237 [==============================] - 2s 8ms/step - loss: 4.7899e-04\n",
            "Epoch 169/400\n",
            "237/237 [==============================] - 2s 8ms/step - loss: 5.2402e-04\n",
            "Epoch 170/400\n",
            "237/237 [==============================] - 2s 8ms/step - loss: 5.5025e-04\n",
            "Epoch 171/400\n",
            "237/237 [==============================] - 2s 8ms/step - loss: 6.1024e-04\n",
            "Epoch 172/400\n",
            "237/237 [==============================] - 2s 8ms/step - loss: 5.8953e-04\n",
            "Epoch 173/400\n",
            "237/237 [==============================] - 2s 8ms/step - loss: 5.4375e-04\n",
            "Epoch 174/400\n",
            "237/237 [==============================] - 2s 8ms/step - loss: 5.0932e-04\n",
            "Epoch 175/400\n",
            "112/237 [=============>................] - ETA: 1s - loss: 4.8716e-04"
          ],
          "name": "stdout"
        },
        {
          "output_type": "stream",
          "text": [
            "237/237 [==============================] - 2s 8ms/step - loss: 4.9385e-04\n",
            "Epoch 176/400\n",
            "237/237 [==============================] - 2s 8ms/step - loss: 7.0377e-04\n",
            "Epoch 177/400\n",
            "237/237 [==============================] - 2s 9ms/step - loss: 7.8128e-04\n",
            "Epoch 178/400\n",
            "237/237 [==============================] - 2s 8ms/step - loss: 5.6813e-04\n",
            "Epoch 179/400\n",
            "237/237 [==============================] - 2s 9ms/step - loss: 4.9497e-04\n",
            "Epoch 180/400\n",
            "237/237 [==============================] - 2s 8ms/step - loss: 4.6199e-04\n",
            "Epoch 181/400\n",
            "237/237 [==============================] - 2s 9ms/step - loss: 6.4686e-04\n",
            "Epoch 182/400\n",
            " 89/237 [==========>...................] - ETA: 1s - loss: 4.7481e-04"
          ],
          "name": "stdout"
        },
        {
          "output_type": "stream",
          "text": [
            "237/237 [==============================] - 2s 9ms/step - loss: 5.8462e-04\n",
            "Epoch 183/400\n",
            "237/237 [==============================] - 2s 9ms/step - loss: 5.5297e-04\n",
            "Epoch 184/400\n",
            "237/237 [==============================] - 2s 8ms/step - loss: 4.7760e-04\n",
            "Epoch 185/400\n",
            "237/237 [==============================] - 2s 8ms/step - loss: 4.7993e-04\n",
            "Epoch 186/400\n",
            "237/237 [==============================] - 2s 8ms/step - loss: 4.3633e-04\n",
            "Epoch 187/400\n",
            "237/237 [==============================] - 2s 8ms/step - loss: 5.0993e-04\n",
            "Epoch 188/400\n",
            "237/237 [==============================] - 2s 8ms/step - loss: 5.3061e-04\n",
            "Epoch 189/400\n",
            "103/237 [============>.................] - ETA: 1s - loss: 4.1595e-04"
          ],
          "name": "stdout"
        },
        {
          "output_type": "stream",
          "text": [
            "237/237 [==============================] - 2s 8ms/step - loss: 4.5431e-04\n",
            "Epoch 190/400\n",
            "237/237 [==============================] - 2s 8ms/step - loss: 4.6919e-04\n",
            "Epoch 191/400\n",
            "237/237 [==============================] - 2s 8ms/step - loss: 5.2991e-04\n",
            "Epoch 192/400\n",
            "237/237 [==============================] - 2s 8ms/step - loss: 5.3739e-04\n",
            "Epoch 193/400\n",
            "237/237 [==============================] - 2s 9ms/step - loss: 5.9752e-04\n",
            "Epoch 194/400\n",
            "237/237 [==============================] - 2s 8ms/step - loss: 4.7699e-04\n",
            "Epoch 195/400\n",
            "237/237 [==============================] - 2s 9ms/step - loss: 4.7713e-04\n",
            "Epoch 196/400\n",
            " 90/237 [==========>...................] - ETA: 1s - loss: 3.3067e-04"
          ],
          "name": "stdout"
        },
        {
          "output_type": "stream",
          "text": [
            "237/237 [==============================] - 2s 9ms/step - loss: 3.8582e-04\n",
            "Epoch 197/400\n",
            "237/237 [==============================] - 2s 9ms/step - loss: 5.0153e-04\n",
            "Epoch 198/400\n",
            "237/237 [==============================] - 2s 9ms/step - loss: 4.0226e-04\n",
            "Epoch 199/400\n",
            "237/237 [==============================] - 2s 9ms/step - loss: 8.4873e-04\n",
            "Epoch 200/400\n",
            "237/237 [==============================] - 2s 9ms/step - loss: 7.5789e-04\n",
            "Epoch 201/400\n",
            "237/237 [==============================] - 2s 8ms/step - loss: 4.7613e-04\n",
            "Epoch 202/400\n",
            "237/237 [==============================] - 2s 8ms/step - loss: 4.2414e-04\n",
            "Epoch 203/400\n",
            " 96/237 [===========>..................] - ETA: 1s - loss: 3.6341e-04"
          ],
          "name": "stdout"
        },
        {
          "output_type": "stream",
          "text": [
            "237/237 [==============================] - 2s 8ms/step - loss: 3.8601e-04\n",
            "Epoch 204/400\n",
            "237/237 [==============================] - 2s 8ms/step - loss: 4.2191e-04\n",
            "Epoch 205/400\n",
            "237/237 [==============================] - 2s 8ms/step - loss: 4.4844e-04\n",
            "Epoch 206/400\n",
            "237/237 [==============================] - 2s 8ms/step - loss: 5.0831e-04\n",
            "Epoch 207/400\n",
            "237/237 [==============================] - 2s 9ms/step - loss: 5.2433e-04\n",
            "Epoch 208/400\n",
            "237/237 [==============================] - 2s 8ms/step - loss: 4.9831e-04\n",
            "Epoch 209/400\n",
            "237/237 [==============================] - 2s 9ms/step - loss: 4.0987e-04\n",
            "Epoch 210/400\n",
            " 74/237 [========>.....................] - ETA: 1s - loss: 2.9571e-04"
          ],
          "name": "stdout"
        },
        {
          "output_type": "stream",
          "text": [
            "237/237 [==============================] - 2s 9ms/step - loss: 5.9131e-04\n",
            "Epoch 211/400\n",
            "237/237 [==============================] - 2s 9ms/step - loss: 4.6752e-04\n",
            "Epoch 212/400\n",
            "237/237 [==============================] - 2s 9ms/step - loss: 4.5735e-04\n",
            "Epoch 213/400\n",
            "237/237 [==============================] - 2s 9ms/step - loss: 4.2916e-04\n",
            "Epoch 214/400\n",
            "237/237 [==============================] - 2s 9ms/step - loss: 4.2032e-04\n",
            "Epoch 215/400\n",
            "237/237 [==============================] - 2s 8ms/step - loss: 5.5782e-04\n",
            "Epoch 216/400\n",
            "237/237 [==============================] - 2s 9ms/step - loss: 5.1782e-04\n",
            "Epoch 217/400\n",
            " 69/237 [=======>......................] - ETA: 1s - loss: 4.0028e-04"
          ],
          "name": "stdout"
        },
        {
          "output_type": "stream",
          "text": [
            "237/237 [==============================] - 2s 8ms/step - loss: 4.6936e-04\n",
            "Epoch 218/400\n",
            "237/237 [==============================] - 2s 9ms/step - loss: 4.0839e-04\n",
            "Epoch 219/400\n",
            "237/237 [==============================] - 2s 9ms/step - loss: 4.1142e-04\n",
            "Epoch 220/400\n",
            "237/237 [==============================] - 2s 8ms/step - loss: 0.0010\n",
            "Epoch 221/400\n",
            "237/237 [==============================] - 2s 9ms/step - loss: 5.9508e-04\n",
            "Epoch 222/400\n",
            "237/237 [==============================] - 2s 8ms/step - loss: 5.1991e-04\n",
            "Epoch 223/400\n",
            "237/237 [==============================] - 2s 8ms/step - loss: 4.4106e-04\n",
            "Epoch 224/400\n",
            "100/237 [===========>..................] - ETA: 1s - loss: 3.4834e-04"
          ],
          "name": "stdout"
        },
        {
          "output_type": "stream",
          "text": [
            "237/237 [==============================] - 2s 8ms/step - loss: 5.1725e-04\n",
            "Epoch 225/400\n",
            "237/237 [==============================] - 2s 9ms/step - loss: 4.1087e-04\n",
            "Epoch 226/400\n",
            "237/237 [==============================] - 2s 8ms/step - loss: 3.8542e-04\n",
            "Epoch 227/400\n",
            "237/237 [==============================] - 2s 9ms/step - loss: 4.2597e-04\n",
            "Epoch 228/400\n",
            "237/237 [==============================] - 2s 8ms/step - loss: 3.9191e-04\n",
            "Epoch 229/400\n",
            "237/237 [==============================] - 2s 8ms/step - loss: 4.5219e-04\n",
            "Epoch 230/400\n",
            "237/237 [==============================] - 2s 9ms/step - loss: 4.6941e-04\n",
            "Epoch 231/400\n",
            "100/237 [===========>..................] - ETA: 1s - loss: 3.8747e-04"
          ],
          "name": "stdout"
        },
        {
          "output_type": "stream",
          "text": [
            "237/237 [==============================] - 2s 8ms/step - loss: 4.3678e-04\n",
            "Epoch 232/400\n",
            "237/237 [==============================] - 2s 8ms/step - loss: 4.0027e-04\n",
            "Epoch 233/400\n",
            "237/237 [==============================] - 2s 8ms/step - loss: 3.7450e-04\n",
            "Epoch 234/400\n",
            "237/237 [==============================] - 2s 8ms/step - loss: 5.7014e-04\n",
            "Epoch 235/400\n",
            "237/237 [==============================] - 2s 9ms/step - loss: 4.0574e-04\n",
            "Epoch 236/400\n",
            "237/237 [==============================] - 2s 8ms/step - loss: 3.8150e-04\n",
            "Epoch 237/400\n",
            "237/237 [==============================] - 2s 9ms/step - loss: 3.5117e-04\n",
            "Epoch 238/400\n",
            " 88/237 [==========>...................] - ETA: 1s - loss: 3.2068e-04"
          ],
          "name": "stdout"
        },
        {
          "output_type": "stream",
          "text": [
            "237/237 [==============================] - 2s 9ms/step - loss: 3.8078e-04\n",
            "Epoch 239/400\n",
            "237/237 [==============================] - 2s 9ms/step - loss: 4.6647e-04\n",
            "Epoch 240/400\n",
            "237/237 [==============================] - 2s 9ms/step - loss: 3.2534e-04\n",
            "Epoch 241/400\n",
            "237/237 [==============================] - 2s 9ms/step - loss: 3.5751e-04\n",
            "Epoch 242/400\n",
            "237/237 [==============================] - 2s 9ms/step - loss: 4.5733e-04\n",
            "Epoch 243/400\n",
            "237/237 [==============================] - 2s 9ms/step - loss: 5.0478e-04\n",
            "Epoch 244/400\n",
            "237/237 [==============================] - 2s 9ms/step - loss: 3.8098e-04\n",
            "Epoch 245/400\n",
            " 65/237 [=======>......................] - ETA: 1s - loss: 3.4635e-04"
          ],
          "name": "stdout"
        },
        {
          "output_type": "stream",
          "text": [
            "237/237 [==============================] - 2s 8ms/step - loss: 3.4964e-04\n",
            "Epoch 246/400\n",
            "237/237 [==============================] - 2s 9ms/step - loss: 3.0239e-04\n",
            "Epoch 247/400\n",
            "237/237 [==============================] - 2s 9ms/step - loss: 3.9654e-04\n",
            "Epoch 248/400\n",
            "237/237 [==============================] - 2s 9ms/step - loss: 3.6168e-04\n",
            "Epoch 249/400\n",
            "237/237 [==============================] - 2s 8ms/step - loss: 3.1287e-04\n",
            "Epoch 250/400\n",
            "237/237 [==============================] - 2s 9ms/step - loss: 3.5012e-04\n",
            "Epoch 251/400\n",
            "237/237 [==============================] - 2s 9ms/step - loss: 3.2202e-04\n",
            "Epoch 252/400\n",
            " 78/237 [========>.....................] - ETA: 1s - loss: 2.6607e-04"
          ],
          "name": "stdout"
        },
        {
          "output_type": "stream",
          "text": [
            "237/237 [==============================] - 2s 9ms/step - loss: 3.0881e-04\n",
            "Epoch 253/400\n",
            "237/237 [==============================] - 2s 9ms/step - loss: 3.3215e-04\n",
            "Epoch 254/400\n",
            "237/237 [==============================] - 2s 9ms/step - loss: 3.5624e-04\n",
            "Epoch 255/400\n",
            "237/237 [==============================] - 2s 9ms/step - loss: 4.7843e-04\n",
            "Epoch 256/400\n",
            "237/237 [==============================] - 2s 9ms/step - loss: 3.4094e-04\n",
            "Epoch 257/400\n",
            "237/237 [==============================] - 2s 9ms/step - loss: 3.1696e-04\n",
            "Epoch 258/400\n",
            "237/237 [==============================] - 2s 9ms/step - loss: 4.7468e-04\n",
            "Epoch 259/400\n",
            " 77/237 [========>.....................] - ETA: 1s - loss: 3.9556e-04"
          ],
          "name": "stdout"
        },
        {
          "output_type": "stream",
          "text": [
            "237/237 [==============================] - 2s 9ms/step - loss: 3.7745e-04\n",
            "Epoch 260/400\n",
            "237/237 [==============================] - 2s 8ms/step - loss: 2.6966e-04\n",
            "Epoch 261/400\n",
            "237/237 [==============================] - 2s 9ms/step - loss: 2.4797e-04\n",
            "Epoch 262/400\n",
            "237/237 [==============================] - 2s 9ms/step - loss: 3.5053e-04\n",
            "Epoch 263/400\n",
            "237/237 [==============================] - 2s 9ms/step - loss: 3.7789e-04\n",
            "Epoch 264/400\n",
            "237/237 [==============================] - 2s 9ms/step - loss: 4.0075e-04\n",
            "Epoch 265/400\n",
            "237/237 [==============================] - 2s 9ms/step - loss: 3.3054e-04\n",
            "Epoch 266/400\n",
            " 63/237 [======>.......................] - ETA: 1s - loss: 2.1937e-04"
          ],
          "name": "stdout"
        },
        {
          "output_type": "stream",
          "text": [
            "237/237 [==============================] - 2s 9ms/step - loss: 4.4553e-04\n",
            "Epoch 267/400\n",
            "237/237 [==============================] - 2s 9ms/step - loss: 3.4297e-04\n",
            "Epoch 268/400\n",
            "237/237 [==============================] - 2s 9ms/step - loss: 2.9604e-04\n",
            "Epoch 269/400\n",
            "237/237 [==============================] - 2s 9ms/step - loss: 2.6281e-04\n",
            "Epoch 270/400\n",
            "237/237 [==============================] - 2s 9ms/step - loss: 2.7474e-04\n",
            "Epoch 271/400\n",
            "237/237 [==============================] - 2s 9ms/step - loss: 3.3192e-04\n",
            "Epoch 272/400\n",
            "237/237 [==============================] - 2s 9ms/step - loss: 3.4692e-04\n",
            "Epoch 273/400\n",
            " 48/237 [=====>........................] - ETA: 1s - loss: 3.5715e-04"
          ],
          "name": "stdout"
        },
        {
          "output_type": "stream",
          "text": [
            "237/237 [==============================] - 2s 9ms/step - loss: 3.5215e-04\n",
            "Epoch 274/400\n",
            "237/237 [==============================] - 2s 9ms/step - loss: 2.7177e-04\n",
            "Epoch 275/400\n",
            "237/237 [==============================] - 2s 9ms/step - loss: 2.5669e-04\n",
            "Epoch 276/400\n",
            "237/237 [==============================] - 2s 8ms/step - loss: 3.1650e-04\n",
            "Epoch 277/400\n",
            "237/237 [==============================] - 2s 9ms/step - loss: 4.4485e-04\n",
            "Epoch 278/400\n",
            "237/237 [==============================] - 2s 8ms/step - loss: 3.0973e-04\n",
            "Epoch 279/400\n",
            "237/237 [==============================] - 2s 8ms/step - loss: 2.6373e-04\n",
            "Epoch 280/400\n",
            " 76/237 [========>.....................] - ETA: 1s - loss: 2.2701e-04"
          ],
          "name": "stdout"
        },
        {
          "output_type": "stream",
          "text": [
            "237/237 [==============================] - 2s 9ms/step - loss: 2.3923e-04\n",
            "Epoch 281/400\n",
            "237/237 [==============================] - 2s 9ms/step - loss: 3.5734e-04\n",
            "Epoch 282/400\n",
            "237/237 [==============================] - 2s 9ms/step - loss: 2.9439e-04\n",
            "Epoch 283/400\n",
            "237/237 [==============================] - 2s 9ms/step - loss: 2.5391e-04\n",
            "Epoch 284/400\n",
            "237/237 [==============================] - 2s 9ms/step - loss: 3.1015e-04\n",
            "Epoch 285/400\n",
            "237/237 [==============================] - 2s 9ms/step - loss: 3.9252e-04\n",
            "Epoch 286/400\n",
            "237/237 [==============================] - 2s 9ms/step - loss: 3.2006e-04\n",
            "Epoch 287/400\n",
            " 39/237 [===>..........................] - ETA: 1s - loss: 2.7803e-04"
          ],
          "name": "stdout"
        },
        {
          "output_type": "stream",
          "text": [
            "237/237 [==============================] - 2s 9ms/step - loss: 3.6887e-04\n",
            "Epoch 288/400\n",
            "237/237 [==============================] - 2s 8ms/step - loss: 4.9239e-04\n",
            "Epoch 289/400\n",
            "237/237 [==============================] - 2s 8ms/step - loss: 5.1882e-04\n",
            "Epoch 290/400\n",
            "237/237 [==============================] - 2s 8ms/step - loss: 3.3700e-04\n",
            "Epoch 291/400\n",
            "237/237 [==============================] - 2s 8ms/step - loss: 3.3530e-04\n",
            "Epoch 292/400\n",
            "237/237 [==============================] - 2s 8ms/step - loss: 2.2012e-04\n",
            "Epoch 293/400\n",
            "237/237 [==============================] - 2s 8ms/step - loss: 2.2508e-04\n",
            "Epoch 294/400\n",
            "104/237 [============>.................] - ETA: 1s - loss: 2.2797e-04"
          ],
          "name": "stdout"
        },
        {
          "output_type": "stream",
          "text": [
            "237/237 [==============================] - 2s 8ms/step - loss: 2.7726e-04\n",
            "Epoch 295/400\n",
            "237/237 [==============================] - 2s 9ms/step - loss: 2.3755e-04\n",
            "Epoch 296/400\n",
            "237/237 [==============================] - 2s 9ms/step - loss: 2.3058e-04\n",
            "Epoch 297/400\n",
            "237/237 [==============================] - 2s 9ms/step - loss: 2.9501e-04\n",
            "Epoch 298/400\n",
            "237/237 [==============================] - 2s 9ms/step - loss: 3.5700e-04\n",
            "Epoch 299/400\n",
            "237/237 [==============================] - 2s 9ms/step - loss: 2.8729e-04\n",
            "Epoch 300/400\n",
            "237/237 [==============================] - 2s 9ms/step - loss: 2.8884e-04\n",
            "Epoch 301/400\n",
            " 49/237 [=====>........................] - ETA: 1s - loss: 2.2827e-04"
          ],
          "name": "stdout"
        },
        {
          "output_type": "stream",
          "text": [
            "237/237 [==============================] - 2s 9ms/step - loss: 2.9094e-04\n",
            "Epoch 302/400\n",
            "237/237 [==============================] - 2s 9ms/step - loss: 4.4904e-04\n",
            "Epoch 303/400\n",
            "237/237 [==============================] - 2s 9ms/step - loss: 2.9215e-04\n",
            "Epoch 304/400\n",
            "237/237 [==============================] - 2s 9ms/step - loss: 3.3125e-04\n",
            "Epoch 305/400\n",
            "237/237 [==============================] - 2s 9ms/step - loss: 2.5873e-04\n",
            "Epoch 306/400\n",
            "237/237 [==============================] - 2s 9ms/step - loss: 2.5959e-04\n",
            "Epoch 307/400\n",
            "237/237 [==============================] - 2s 9ms/step - loss: 4.2029e-04\n",
            "Epoch 308/400\n",
            " 55/237 [=====>........................] - ETA: 1s - loss: 4.9225e-04"
          ],
          "name": "stdout"
        },
        {
          "output_type": "stream",
          "text": [
            "237/237 [==============================] - 2s 9ms/step - loss: 4.2808e-04\n",
            "Epoch 309/400\n",
            "237/237 [==============================] - 2s 9ms/step - loss: 3.4487e-04\n",
            "Epoch 310/400\n",
            "237/237 [==============================] - 2s 9ms/step - loss: 3.1193e-04\n",
            "Epoch 311/400\n",
            "237/237 [==============================] - 2s 9ms/step - loss: 2.3449e-04\n",
            "Epoch 312/400\n",
            "237/237 [==============================] - 2s 8ms/step - loss: 2.2882e-04\n",
            "Epoch 313/400\n",
            "237/237 [==============================] - 2s 8ms/step - loss: 2.5120e-04\n",
            "Epoch 314/400\n",
            "237/237 [==============================] - 2s 8ms/step - loss: 1.9976e-04\n",
            "Epoch 315/400\n",
            " 70/237 [=======>......................] - ETA: 1s - loss: 2.4347e-04"
          ],
          "name": "stdout"
        },
        {
          "output_type": "stream",
          "text": [
            "237/237 [==============================] - 2s 9ms/step - loss: 2.4851e-04\n",
            "Epoch 316/400\n",
            "237/237 [==============================] - 2s 9ms/step - loss: 1.8359e-04\n",
            "Epoch 317/400\n",
            "237/237 [==============================] - 2s 9ms/step - loss: 2.2460e-04\n",
            "Epoch 318/400\n",
            "237/237 [==============================] - 2s 9ms/step - loss: 2.7623e-04\n",
            "Epoch 319/400\n",
            "237/237 [==============================] - 2s 8ms/step - loss: 2.8949e-04\n",
            "Epoch 320/400\n",
            "237/237 [==============================] - 2s 9ms/step - loss: 1.7271e-04\n",
            "Epoch 321/400\n",
            "237/237 [==============================] - 2s 9ms/step - loss: 2.2214e-04\n",
            "Epoch 322/400\n",
            " 68/237 [=======>......................] - ETA: 1s - loss: 1.6567e-04"
          ],
          "name": "stdout"
        },
        {
          "output_type": "stream",
          "text": [
            "237/237 [==============================] - 2s 9ms/step - loss: 1.7237e-04\n",
            "Epoch 323/400\n",
            "237/237 [==============================] - 2s 9ms/step - loss: 2.4881e-04\n",
            "Epoch 324/400\n",
            "237/237 [==============================] - 2s 9ms/step - loss: 2.1769e-04\n",
            "Epoch 325/400\n",
            "237/237 [==============================] - 2s 9ms/step - loss: 2.8328e-04\n",
            "Epoch 326/400\n",
            "237/237 [==============================] - 2s 9ms/step - loss: 1.6567e-04\n",
            "Epoch 327/400\n",
            "237/237 [==============================] - 2s 9ms/step - loss: 2.5284e-04\n",
            "Epoch 328/400\n",
            "237/237 [==============================] - 2s 9ms/step - loss: 3.0359e-04\n",
            "Epoch 329/400\n",
            " 43/237 [====>.........................] - ETA: 1s - loss: 3.7409e-04"
          ],
          "name": "stdout"
        },
        {
          "output_type": "stream",
          "text": [
            "237/237 [==============================] - 2s 9ms/step - loss: 2.4702e-04\n",
            "Epoch 330/400\n",
            "237/237 [==============================] - 2s 9ms/step - loss: 2.4356e-04\n",
            "Epoch 331/400\n",
            "237/237 [==============================] - 2s 8ms/step - loss: 1.8579e-04\n",
            "Epoch 332/400\n",
            "237/237 [==============================] - 2s 8ms/step - loss: 2.1277e-04\n",
            "Epoch 333/400\n",
            "237/237 [==============================] - 2s 8ms/step - loss: 1.8636e-04\n",
            "Epoch 334/400\n",
            "237/237 [==============================] - 2s 8ms/step - loss: 1.9192e-04\n",
            "Epoch 335/400\n",
            "237/237 [==============================] - 2s 8ms/step - loss: 2.6992e-04\n",
            "Epoch 336/400\n",
            "108/237 [============>.................] - ETA: 1s - loss: 2.5347e-04"
          ],
          "name": "stdout"
        },
        {
          "output_type": "stream",
          "text": [
            "237/237 [==============================] - 2s 8ms/step - loss: 3.0020e-04\n",
            "Epoch 337/400\n",
            "237/237 [==============================] - 2s 8ms/step - loss: 2.6035e-04\n",
            "Epoch 338/400\n",
            "237/237 [==============================] - 2s 8ms/step - loss: 2.1538e-04\n",
            "Epoch 339/400\n",
            "237/237 [==============================] - 2s 8ms/step - loss: 2.6926e-04\n",
            "Epoch 340/400\n",
            "237/237 [==============================] - 2s 8ms/step - loss: 3.3273e-04\n",
            "Epoch 341/400\n",
            "237/237 [==============================] - 2s 8ms/step - loss: 2.3229e-04\n",
            "Epoch 342/400\n",
            "237/237 [==============================] - 2s 8ms/step - loss: 2.2363e-04\n",
            "Epoch 343/400\n",
            "134/237 [===============>..............] - ETA: 0s - loss: 1.4668e-04"
          ],
          "name": "stdout"
        },
        {
          "output_type": "stream",
          "text": [
            "237/237 [==============================] - 2s 8ms/step - loss: 1.7549e-04\n",
            "Epoch 344/400\n",
            "237/237 [==============================] - 2s 8ms/step - loss: 1.6661e-04\n",
            "Epoch 345/400\n",
            "237/237 [==============================] - 2s 9ms/step - loss: 1.7685e-04\n",
            "Epoch 346/400\n",
            "237/237 [==============================] - 2s 8ms/step - loss: 2.1033e-04\n",
            "Epoch 347/400\n",
            "237/237 [==============================] - 2s 8ms/step - loss: 1.9188e-04\n",
            "Epoch 348/400\n",
            "237/237 [==============================] - 2s 8ms/step - loss: 2.2860e-04\n",
            "Epoch 349/400\n",
            "237/237 [==============================] - 2s 8ms/step - loss: 3.5437e-04\n",
            "Epoch 350/400\n",
            "132/237 [===============>..............] - ETA: 0s - loss: 2.2148e-04"
          ],
          "name": "stdout"
        },
        {
          "output_type": "stream",
          "text": [
            "237/237 [==============================] - 2s 8ms/step - loss: 2.5424e-04\n",
            "Epoch 351/400\n",
            "237/237 [==============================] - 2s 8ms/step - loss: 3.0837e-04\n",
            "Epoch 352/400\n",
            "237/237 [==============================] - 2s 9ms/step - loss: 3.2893e-04\n",
            "Epoch 353/400\n",
            "237/237 [==============================] - 2s 8ms/step - loss: 1.8934e-04\n",
            "Epoch 354/400\n",
            "237/237 [==============================] - 2s 9ms/step - loss: 1.9660e-04\n",
            "Epoch 355/400\n",
            "237/237 [==============================] - 2s 9ms/step - loss: 1.9124e-04\n",
            "Epoch 356/400\n",
            "237/237 [==============================] - 2s 9ms/step - loss: 1.6273e-04\n",
            "Epoch 357/400\n",
            " 56/237 [======>.......................] - ETA: 1s - loss: 1.5692e-04"
          ],
          "name": "stdout"
        },
        {
          "output_type": "stream",
          "text": [
            "237/237 [==============================] - 2s 9ms/step - loss: 1.2500e-04\n",
            "Epoch 358/400\n",
            "237/237 [==============================] - 2s 9ms/step - loss: 1.5785e-04\n",
            "Epoch 359/400\n",
            "237/237 [==============================] - 2s 8ms/step - loss: 2.3124e-04\n",
            "Epoch 360/400\n",
            "237/237 [==============================] - 2s 8ms/step - loss: 3.1062e-04\n",
            "Epoch 361/400\n",
            "237/237 [==============================] - 2s 9ms/step - loss: 2.8576e-04\n",
            "Epoch 362/400\n",
            "237/237 [==============================] - 2s 9ms/step - loss: 1.9282e-04\n",
            "Epoch 363/400\n",
            "237/237 [==============================] - 2s 8ms/step - loss: 2.1930e-04\n",
            "Epoch 364/400\n",
            " 87/237 [==========>...................] - ETA: 1s - loss: 1.6189e-04"
          ],
          "name": "stdout"
        },
        {
          "output_type": "stream",
          "text": [
            "237/237 [==============================] - 2s 8ms/step - loss: 1.6241e-04\n",
            "Epoch 365/400\n",
            "237/237 [==============================] - 2s 8ms/step - loss: 1.6829e-04\n",
            "Epoch 366/400\n",
            "237/237 [==============================] - 2s 9ms/step - loss: 1.5217e-04\n",
            "Epoch 367/400\n",
            "237/237 [==============================] - 2s 8ms/step - loss: 1.5314e-04\n",
            "Epoch 368/400\n",
            "237/237 [==============================] - 2s 9ms/step - loss: 1.8962e-04\n",
            "Epoch 369/400\n",
            "237/237 [==============================] - 2s 9ms/step - loss: 2.0767e-04\n",
            "Epoch 370/400\n",
            "237/237 [==============================] - 2s 9ms/step - loss: 1.6009e-04\n",
            "Epoch 371/400\n",
            " 42/237 [====>.........................] - ETA: 1s - loss: 9.9970e-05"
          ],
          "name": "stdout"
        },
        {
          "output_type": "stream",
          "text": [
            "237/237 [==============================] - 2s 9ms/step - loss: 1.2917e-04\n",
            "Epoch 372/400\n",
            "237/237 [==============================] - 2s 9ms/step - loss: 1.5127e-04\n",
            "Epoch 373/400\n",
            "237/237 [==============================] - 2s 9ms/step - loss: 2.4158e-04\n",
            "Epoch 374/400\n",
            "237/237 [==============================] - 2s 9ms/step - loss: 2.3947e-04\n",
            "Epoch 375/400\n",
            "237/237 [==============================] - 2s 9ms/step - loss: 3.6763e-04\n",
            "Epoch 376/400\n",
            "237/237 [==============================] - 2s 8ms/step - loss: 2.0016e-04\n",
            "Epoch 377/400\n",
            "237/237 [==============================] - 2s 8ms/step - loss: 1.5829e-04\n",
            "Epoch 378/400\n",
            " 61/237 [======>.......................] - ETA: 1s - loss: 1.4141e-04"
          ],
          "name": "stdout"
        },
        {
          "output_type": "stream",
          "text": [
            "237/237 [==============================] - 2s 8ms/step - loss: 1.3241e-04\n",
            "Epoch 379/400\n",
            "237/237 [==============================] - 2s 9ms/step - loss: 1.4938e-04\n",
            "Epoch 380/400\n",
            "237/237 [==============================] - 2s 9ms/step - loss: 2.3844e-04\n",
            "Epoch 381/400\n",
            "237/237 [==============================] - 2s 8ms/step - loss: 1.9470e-04\n",
            "Epoch 382/400\n",
            "237/237 [==============================] - 2s 8ms/step - loss: 3.2700e-04\n",
            "Epoch 383/400\n",
            "237/237 [==============================] - 2s 9ms/step - loss: 2.9961e-04\n",
            "Epoch 384/400\n",
            "237/237 [==============================] - 2s 9ms/step - loss: 1.6020e-04\n",
            "Epoch 385/400\n",
            " 73/237 [========>.....................] - ETA: 1s - loss: 8.1492e-05"
          ],
          "name": "stdout"
        },
        {
          "output_type": "stream",
          "text": [
            "237/237 [==============================] - 2s 9ms/step - loss: 9.4590e-05\n",
            "Epoch 386/400\n",
            "237/237 [==============================] - 2s 9ms/step - loss: 1.0461e-04\n",
            "Epoch 387/400\n",
            "237/237 [==============================] - 2s 9ms/step - loss: 7.0708e-05\n",
            "Epoch 388/400\n",
            "237/237 [==============================] - 2s 9ms/step - loss: 1.0268e-04\n",
            "Epoch 389/400\n",
            "237/237 [==============================] - 2s 8ms/step - loss: 2.0899e-04\n",
            "Epoch 390/400\n",
            "237/237 [==============================] - 2s 9ms/step - loss: 3.4186e-04\n",
            "Epoch 391/400\n",
            "237/237 [==============================] - 2s 8ms/step - loss: 3.3124e-04\n",
            "Epoch 392/400\n",
            " 85/237 [=========>....................] - ETA: 1s - loss: 2.8735e-04"
          ],
          "name": "stdout"
        },
        {
          "output_type": "stream",
          "text": [
            "237/237 [==============================] - 2s 8ms/step - loss: 2.6817e-04\n",
            "Epoch 393/400\n",
            "237/237 [==============================] - 2s 8ms/step - loss: 1.4460e-04\n",
            "Epoch 394/400\n",
            "237/237 [==============================] - 2s 8ms/step - loss: 1.1237e-04\n",
            "Epoch 395/400\n",
            "237/237 [==============================] - 2s 8ms/step - loss: 9.7305e-05\n",
            "Epoch 396/400\n",
            "237/237 [==============================] - 2s 8ms/step - loss: 9.6354e-05\n",
            "Epoch 397/400\n",
            "237/237 [==============================] - 2s 8ms/step - loss: 1.1523e-04\n",
            "Epoch 398/400\n",
            "237/237 [==============================] - 2s 8ms/step - loss: 1.2634e-04\n",
            "Epoch 399/400\n",
            "125/237 [==============>...............] - ETA: 0s - loss: 1.1441e-04"
          ],
          "name": "stdout"
        },
        {
          "output_type": "stream",
          "text": [
            "237/237 [==============================] - 2s 8ms/step - loss: 1.2353e-04\n",
            "Epoch 400/400\n",
            "237/237 [==============================] - 2s 8ms/step - loss: 1.5158e-04\n"
          ],
          "name": "stdout"
        }
      ]
    },
    {
      "metadata": {
        "id": "z_nYDy1wwfHr",
        "colab_type": "code",
        "colab": {}
      },
      "cell_type": "code",
      "source": [
        "preds = pred(test,model,y_size=1)\n",
        "\"\"\"Renormalization and Get Rid of Log\"\"\"\n",
        "for i,p in enumerate(preds):\n",
        "    preds[i] = 10**(p+np.log10(df['price'].values[-30+i]))"
      ],
      "execution_count": 0,
      "outputs": []
    },
    {
      "metadata": {
        "id": "LDpIlqNr3HEi",
        "colab_type": "code",
        "colab": {
          "base_uri": "https://localhost:8080/",
          "height": 374
        },
        "outputId": "3b4b94de-06c4-4e8c-a570-69c946e75bca"
      },
      "cell_type": "code",
      "source": [
        "plt.figure(figsize=(18,6))\n",
        "plt.plot(pd.Series(df['price'].values,index=range(df.shape[0])),label=\"real\")\n",
        "plt.plot(pd.Series(preds,index=range(df.shape[0]-test_size,df.shape[0])),label=\"prediction\")\n",
        "plt.legend()\n",
        "plt.show()"
      ],
      "execution_count": 18,
      "outputs": [
        {
          "output_type": "display_data",
          "data": {
            "image/png": "[encoded data removed]",
            "text/plain": [
              "<matplotlib.figure.Figure at 0x7fdf77070128>"
            ]
          },
          "metadata": {
            "tags": []
          }
        }
      ]
    },
    {
      "metadata": {
        "id": "bT8rDqO93Jz9",
        "colab_type": "code",
        "colab": {
          "base_uri": "https://localhost:8080/",
          "height": 34
        },
        "outputId": "63c11edd-5138-46fb-9b17-7acfe40be1b2"
      },
      "cell_type": "code",
      "source": [
        "sMAPE(df['price'].values[-test_size:],preds)"
      ],
      "execution_count": 19,
      "outputs": [
        {
          "output_type": "execute_result",
          "data": {
            "text/plain": [
              "13.26955877435453"
            ]
          },
          "metadata": {
            "tags": []
          },
          "execution_count": 19
        }
      ]
    },
    {
      "metadata": {
        "id": "WeQ2MH0U3MzQ",
        "colab_type": "code",
        "colab": {
          "base_uri": "https://localhost:8080/",
          "height": 34
        },
        "outputId": "6ac78909-482d-458b-c358-eff7c417728a"
      },
      "cell_type": "code",
      "source": [
        "from sklearn.metrics import mean_squared_error\n",
        "from math import sqrt\n",
        "\n",
        "rms = sqrt(mean_squared_error(df['price'][-test_size:], preds))\n",
        "rms"
      ],
      "execution_count": 20,
      "outputs": [
        {
          "output_type": "execute_result",
          "data": {
            "text/plain": [
              "1250.9371074599915"
            ]
          },
          "metadata": {
            "tags": []
          },
          "execution_count": 20
        }
      ]
    },
    {
      "metadata": {
        "id": "Gb8MDc7r3OuS",
        "colab_type": "code",
        "colab": {
          "base_uri": "https://localhost:8080/",
          "height": 34
        },
        "outputId": "867a9727-15d3-46ac-e13b-533716ba797b"
      },
      "cell_type": "code",
      "source": [
        "ft-st"
      ],
      "execution_count": 21,
      "outputs": [
        {
          "output_type": "execute_result",
          "data": {
            "text/plain": [
              "825.1369490623474"
            ]
          },
          "metadata": {
            "tags": []
          },
          "execution_count": 21
        }
      ]
    },
    {
      "metadata": {
        "id": "2PW4w4jO3RTR",
        "colab_type": "code",
        "colab": {}
      },
      "cell_type": "code",
      "source": [
        ""
      ],
      "execution_count": 0,
      "outputs": []
    }
  ]
}